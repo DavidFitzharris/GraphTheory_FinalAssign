{
 "cells": [
  {
   "cell_type": "markdown",
   "id": "746247b7",
   "metadata": {},
   "source": [
    "# Graph Isomorphism.\n"
   ]
  },
  {
   "cell_type": "markdown",
   "id": "d6eeca58",
   "metadata": {},
   "source": [
    "<h3>Graph Isomorphism Explained</h3>\n",
    "\n",
    "<p> Gragh Isomorphism is when the same graph occurs in more than one form. This must follow some conditions such as the number of vertices (<i>V</i>) and edges (<i>E</i>) must be the same. If we look at the example below, we can se isomorphism at work. While the structure of the graph is different, it is infact the same graph following the conditions of isomorphism.<br> The Graph bellow is an example of isomorphism whereas G ~= H. </p>\n",
    "\n",
    "<img src=\"Img/graph_isomorph_example.png\" width=\"50%\" height=\"50%\">\n",
    "\n",
    "<p>Looking at the structures of graph G and H, they initially seem as though they are different graphs. If we begin to compare the points, we can begin to understand they they infact the same graph just displayed differently. We could begin to draw arrows between the points in a one-to-one relationship, bijections, to help us identify if it is isomorphic or not, but as the graphs get more complex this is no longer a realistic approach and so more intuative methods are required. This is where we see the graph isomorphism problem, trying to find an efficient algorithm to compare two graphs. \n",
    "</p>\n"
   ]
  },
  {
   "cell_type": "markdown",
   "id": "2b1a1797",
   "metadata": {},
   "source": []
  },
  {
   "cell_type": "markdown",
   "id": "5b9040c5",
   "metadata": {},
   "source": [
    "## Specification of the Graph Isomorphism Problem"
   ]
  },
  {
   "cell_type": "markdown",
   "id": "c84e37ca",
   "metadata": {},
   "source": [
    "<h3>Basics of Graphs with Data</h3>\n",
    "<p>Before going further into Graph isomorphism, lets look at some of the terms used when using data with graphs and into graph isomophism</p>\n",
    "\n",
    "<p>\n",
    "    <u>Set</u> {a,b,c}<br>\n",
    "    <ul>\n",
    "        <li>Sets are shown in curly braces</li>\n",
    "        <li>No dublicate elements</li>\n",
    "        <li>Unordered</li>\n",
    "    </ul>\n",
    "</p>\n",
    "<p>\n",
    "    <u>Tuple</u> (a,b,b,c,c,d)<br>\n",
    "    <ul>\n",
    "        <li>Shown in round bracket</li>\n",
    "        <li>Possible to have dublicate elements</li>\n",
    "        <li>Ordered</li>\n",
    "    </ul>\n",
    "</p>\n",
    "<p>\n",
    "    <u>Map</u>{(a,d),(b,e),(c,e)}<br>\n",
    "    <ul>\n",
    "        <li>Opened as a set</li>\n",
    "        <li>Conatains tuple pairs</li>\n",
    "        <li>first, or left, element in the pair does not repeat</li>\n",
    "    </ul>\n",
    "</p>\n",
    "<p>  \n",
    "    <u>Bijection</u><br>\n",
    "    <ul>\n",
    "        <li>Function between the elements of two sets in a one-to-one relationship</li>\n",
    "        <li><i>f</i> : x ←→ y </li>\n",
    "        <li>Map is therefore reversible</li>\n",
    "    </ul>\n",
    "    <img src=\"Img/Bijection_example.png\" title=\"An example of bijection\" width=\"25%\" height=\"25%\">\n",
    "    \n",
    "</p>\n",
    "<p> \n",
    "    <u>Graph</u><br>\n",
    "    <ul>\n",
    "        <li>Graph is made up of the Vertices and Edges. G = (V,E)</li>\n",
    "        <li><i>V</i> is the set of nodes eg. {1,2,3,4,5}</li>\n",
    "        <li><i>E</i> is a subset of V using 2 nodes {2,3} </li>\n",
    "    </ul>\n",
    "</p>\n",
    "<p> \n",
    "    <u>Isomorphism</u><br>\n",
    "    <ul>\n",
    "        <li>Using the information above, we can show isomorphism as G1 = (V1, E1) ∼= G2 = (V2, E2)\n",
    " </li>\n",
    "        <li>Two graphs with the same vertices and edges, but formed differently when displayed</li>\n",
    "    </ul>\n",
    "</p>\n",
    "<p> \n",
    "    <u>Adjacency Matrix</u><br>\n",
    "    <ul>\n",
    "        <li>Representing the graph as sets of binary strings in a matrix</li>\n",
    "        <li>Verticies along the X and Y axis outside the matrix</li>\n",
    "        <li>If you take cordinates from verticies along the X and Y, it will have 0 or 1</li>\n",
    "        <li>0 represents there is no link or edge between them, and 1 meaning there is</li>\n",
    "        <li>Shown in the below example if we take (A,A) = 0 as it is not linked to itself</li>\n",
    "        <li>If we take (C,D) = 1 as they are connected</li>\n",
    "    </ul>\n",
    "    <img src=\"Img/Adj_Matrix.png\" title=\"An example of adjacency Matrix\" width=\"40%\" height=\"40%\">\n",
    "    \n",
    "</p>\n",
    "\n",
    "<p> \n",
    "    <u>Permutations</u><br>\n",
    "    <ul>\n",
    "        <li>Swapping the values in a list</li>\n",
    "        <li>Eg. we have a list L = [1,2,3,4]</li>\n",
    "        <li>A permutation of L could be M = [2,1,3,4]</li>\n",
    "        <li>The permutation is the operation of swapping the values, or the journey from L -> M</li>\n",
    "    </ul>\n",
    "</p>\n",
    "\n",
    "<h3>The Problem</h3>\n",
    "\n",
    "<p>Looking at simple graphs, with a basic understanding of isomorphism you can relatively quickly figure out if these graphs are isomorphic or not. You can also draw bijections between the two graphs to establish if the graphs are the same, as mentioned above, looking for a one-to-one relationship between points. If the graphs were side by side, one point on the left would have to go to one point on the right. There does not have to be order but every point must go to only one other point with no points left, and follow the conditions that the number of components and edges are the same.<br><br> When graphs get a busier and more complex this no longer becomes such a simple task, and so we look for more intuitive methods. </p>\n",
    "\n",
    "<p><i>Ref: https://en.wikipedia.org/wiki/Bijection<br>\n",
    "    GMIT Y3 Graph Theory with Dr Ian McLoughlin\n",
    "    </i></p>\n"
   ]
  },
  {
   "cell_type": "markdown",
   "id": "958b7262",
   "metadata": {},
   "source": [
    "## Working With Graphs in Python\n",
    "#### Plotting a Graph"
   ]
  },
  {
   "cell_type": "code",
   "execution_count": 14,
   "id": "125f8f0c",
   "metadata": {},
   "outputs": [
    {
     "data": {
      "image/png": "[encoded data removed]",
      "text/plain": [
       "<Figure size 432x288 with 1 Axes>"
      ]
     },
     "metadata": {},
     "output_type": "display_data"
    }
   ],
   "source": [
    "# Lets first look at plotting graphs knowing what we have looked at so far\n",
    "# Starting by importing a package for graphs and parameters\n",
    "# for drawing graphs\n",
    "\n",
    "import networkx as nx\n",
    "params = {'node_color': 'lightblue', 'node_size': 900, 'font_size': 18, 'with_labels': True}\n",
    "\n",
    "# Now we can create an empty graph.\n",
    "G = nx.Graph()\n",
    "\n",
    "# Using the vertices, V = {0,1,2,3}, we can create our edges E\n",
    "E = ((0,1),(1,2),(2,3),(3,0))\n",
    "\n",
    "# Can now incorporate the edges in G\n",
    "G.add_edges_from(E)\n",
    "\n",
    "# Draw G.\n",
    "nx.draw_circular(G, **params)"
   ]
  },
  {
   "cell_type": "markdown",
   "id": "93058d40",
   "metadata": {},
   "source": [
    "#### Adjacency Matrices"
   ]
  },
  {
   "cell_type": "code",
   "execution_count": 2,
   "id": "4787fecf",
   "metadata": {},
   "outputs": [],
   "source": [
    "# First we can import numpy to use for matrices.\n",
    "import numpy as np"
   ]
  },
  {
   "cell_type": "code",
   "execution_count": 3,
   "id": "4bd37774",
   "metadata": {},
   "outputs": [
    {
     "name": "stdout",
     "output_type": "stream",
     "text": [
      "[[0. 1. 0. 1.]\n",
      " [1. 0. 1. 0.]\n",
      " [0. 1. 0. 1.]\n",
      " [1. 0. 1. 0.]]\n"
     ]
    }
   ],
   "source": [
    "# Now we can display the adjacency matrix of G\n",
    "print(nx.to_numpy_array(G))"
   ]
  },
  {
   "cell_type": "code",
   "execution_count": 4,
   "id": "cfd7f356",
   "metadata": {},
   "outputs": [
    {
     "name": "stdout",
     "output_type": "stream",
     "text": [
      "[[0 1 0 1]\n",
      " [1 0 1 0]\n",
      " [0 1 0 1]\n",
      " [1 0 1 0]]\n"
     ]
    }
   ],
   "source": [
    "# Converting to 8 bit integers to tidy up matrix\n",
    "A = nx.to_numpy_array(G).astype(np.uint8)\n",
    "print(A)"
   ]
  },
  {
   "cell_type": "code",
   "execution_count": 5,
   "id": "8f9cf0bd",
   "metadata": {},
   "outputs": [
    {
     "name": "stdout",
     "output_type": "stream",
     "text": [
      "[[0 1 0 1]\n",
      " [1 0 1 0]\n",
      " [0 1 0 1]\n",
      " [1 0 1 0]]\n"
     ]
    }
   ],
   "source": [
    "# We can transpose A as show\n",
    "print(A.T)"
   ]
  },
  {
   "cell_type": "code",
   "execution_count": 6,
   "id": "c555699d",
   "metadata": {},
   "outputs": [
    {
     "name": "stdout",
     "output_type": "stream",
     "text": [
      "[[ True  True  True  True]\n",
      " [ True  True  True  True]\n",
      " [ True  True  True  True]\n",
      " [ True  True  True  True]]\n"
     ]
    }
   ],
   "source": [
    "# Can show all entries of A and its transpose are the same.\n",
    "print(A.T == A)"
   ]
  },
  {
   "cell_type": "code",
   "execution_count": 7,
   "id": "ba46a3ba",
   "metadata": {
    "scrolled": true
   },
   "outputs": [
    {
     "data": {
      "text/plain": [
       "True"
      ]
     },
     "execution_count": 7,
     "metadata": {},
     "output_type": "execute_result"
    }
   ],
   "source": [
    "# Can also check as a colective if all are true\n",
    "(A.T == A).all()"
   ]
  },
  {
   "cell_type": "markdown",
   "id": "5a0d2651",
   "metadata": {},
   "source": [
    "#### Permutations"
   ]
  },
  {
   "cell_type": "code",
   "execution_count": 16,
   "id": "5c6353fd",
   "metadata": {},
   "outputs": [
    {
     "data": {
      "text/plain": [
       "[0, 1, 2, 3]"
      ]
     },
     "execution_count": 16,
     "metadata": {},
     "output_type": "execute_result"
    }
   ],
   "source": [
    "# Lets look at getting the permutations from a list\n",
    "import itertools as it\n",
    "\n",
    "L = list(range(0,4))\n",
    "L"
   ]
  },
  {
   "cell_type": "code",
   "execution_count": 17,
   "id": "ad35571c",
   "metadata": {},
   "outputs": [
    {
     "name": "stdout",
     "output_type": "stream",
     "text": [
      "(0, 1, 2, 3)\n",
      "(0, 1, 3, 2)\n",
      "(0, 2, 1, 3)\n",
      "(0, 2, 3, 1)\n",
      "(0, 3, 1, 2)\n",
      "(0, 3, 2, 1)\n",
      "(1, 0, 2, 3)\n",
      "(1, 0, 3, 2)\n",
      "(1, 2, 0, 3)\n",
      "(1, 2, 3, 0)\n",
      "(1, 3, 0, 2)\n",
      "(1, 3, 2, 0)\n",
      "(2, 0, 1, 3)\n",
      "(2, 0, 3, 1)\n",
      "(2, 1, 0, 3)\n",
      "(2, 1, 3, 0)\n",
      "(2, 3, 0, 1)\n",
      "(2, 3, 1, 0)\n",
      "(3, 0, 1, 2)\n",
      "(3, 0, 2, 1)\n",
      "(3, 1, 0, 2)\n",
      "(3, 1, 2, 0)\n",
      "(3, 2, 0, 1)\n",
      "(3, 2, 1, 0)\n"
     ]
    }
   ],
   "source": [
    "# Working out all of the permutations of our list L\n",
    "for p in it.permutations(L):\n",
    "    print(p)"
   ]
  },
  {
   "cell_type": "code",
   "execution_count": 23,
   "id": "e62cc7ec",
   "metadata": {},
   "outputs": [
    {
     "data": {
      "image/png": "[encoded data removed]",
      "text/plain": [
       "<Figure size 432x288 with 1 Axes>"
      ]
     },
     "metadata": {},
     "output_type": "display_data"
    }
   ],
   "source": [
    "# Creating some graphs for comparison\n",
    "ConG = nx.Graph()\n",
    "ConG.add_nodes_from(['Roscommon','Galway','Mayo', 'Sligo', 'Leitrim'])\n",
    "ConG.add_edges_from([('Roscommon', 'Galway'), ('Galway', 'Mayo'),('Mayo','Sligo'),('Sligo', 'Leitrim'),('Leitrim','Roscommon')])\n",
    "nx.draw(ConG, **params)"
   ]
  },
  {
   "cell_type": "code",
   "execution_count": 59,
   "id": "666ffabf",
   "metadata": {},
   "outputs": [
    {
     "name": "stdout",
     "output_type": "stream",
     "text": [
      "[[0 1 0 0 1]\n",
      " [1 0 1 0 0]\n",
      " [0 1 0 1 0]\n",
      " [0 0 1 0 1]\n",
      " [1 0 0 1 0]]\n"
     ]
    }
   ],
   "source": [
    "# Converting and displaying a Connacht graph a matrix\n",
    "C = nx.to_numpy_array(ConG).astype(np.uint8)\n",
    "print(C)"
   ]
  },
  {
   "cell_type": "code",
   "execution_count": 58,
   "id": "e5167a63",
   "metadata": {},
   "outputs": [
    {
     "data": {
      "image/png": "[encoded data removed]",
      "text/plain": [
       "<Figure size 432x288 with 1 Axes>"
      ]
     },
     "metadata": {},
     "output_type": "display_data"
    }
   ],
   "source": [
    "# Second graph\n",
    "LenG = nx.Graph()\n",
    "LenG.add_nodes_from(['Dublin','Wicklow','Wexford', 'Carlow', 'Kildare'])\n",
    "LenG.add_edges_from([('Kildare', 'Dublin') ,('Wicklow','Wexford'),('Dublin','Wicklow'),('Wexford', 'Carlow'),('Carlow', 'Kildare')])\n",
    "nx.draw(LenG, **params)"
   ]
  },
  {
   "cell_type": "code",
   "execution_count": 61,
   "id": "b8b6dd86",
   "metadata": {},
   "outputs": [
    {
     "name": "stdout",
     "output_type": "stream",
     "text": [
      "[[0 1 0 0 1]\n",
      " [1 0 1 0 0]\n",
      " [0 1 0 1 0]\n",
      " [0 0 1 0 1]\n",
      " [1 0 0 1 0]]\n"
     ]
    }
   ],
   "source": [
    "# Displaying the several Leinster counties graph as a matrix\n",
    "Ln = nx.to_numpy_array(LenG).astype(np.uint8)\n",
    "print(Ln)"
   ]
  },
  {
   "cell_type": "code",
   "execution_count": 62,
   "id": "b9bfde01",
   "metadata": {},
   "outputs": [
    {
     "data": {
      "text/plain": [
       "True"
      ]
     },
     "execution_count": 62,
     "metadata": {},
     "output_type": "execute_result"
    }
   ],
   "source": [
    "# Using networkx to chackfor isomorphism. \n",
    "nx.is_isomorphic(LenG, ConG)"
   ]
  },
  {
   "cell_type": "markdown",
   "id": "83500de1",
   "metadata": {},
   "source": [
    "## The Scientific Interest in The Graph Isomorphism Problem"
   ]
  },
  {
   "cell_type": "markdown",
   "id": "98c1ffa2",
   "metadata": {},
   "source": [
    "<p>The graph isomorphism problem has been studied and practiced since the 1950's first documented in chemistry as the problem of matching molecular graphs. It is seen in the very early stages of computing, and gained much attention amongst the theory community in the 1970's \"as one of the few natural problems in the complexity class NP that could neither be classified as being hard (NP-complete) nor shown to be solvable with an efficient algorithm (that is, a polynomial-time algorithm)\" <i>Martin Grohe, CACM</i>.<br><br>\n",
    "There is many very useful applications for graph isomorphism, from the beginning with molecular comparison in chemistry, to machine learning, verification software and much more in computing, and so is an area that is greatly reasearched by scientists still today.<br><br>\n",
    "It is still looked at as an unsolved problem, although an almost efficiently solvable solution has been developed by Lazlo Babai in quasipolynomial time. What that means is that on n-vertex input graphs, his algorithm runs in n^p(log n). It is being recognised by some as a solution to the graph ismorphism problem but it is still widely considered still an open problem.<br><br>\n",
    "<i>Ref: https://cacm.acm.org/magazines/2020/11/248220-the-graph-isomorphism-problem/fulltext</i>\n",
    "</p>"
   ]
  },
  {
   "cell_type": "code",
   "execution_count": null,
   "id": "e2d92674",
   "metadata": {},
   "outputs": [],
   "source": []
  }
 ],
 "metadata": {
  "kernelspec": {
   "display_name": "Python 3 (ipykernel)",
   "language": "python",
   "name": "python3"
  },
  "language_info": {
   "codemirror_mode": {
    "name": "ipython",
    "version": 3
   },
   "file_extension": ".py",
   "mimetype": "text/x-python",
   "name": "python",
   "nbconvert_exporter": "python",
   "pygments_lexer": "ipython3",
   "version": "3.9.7"
  }
 },
 "nbformat": 4,
 "nbformat_minor": 5
}
