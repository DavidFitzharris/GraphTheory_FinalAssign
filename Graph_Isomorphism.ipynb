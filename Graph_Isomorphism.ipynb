{
 "cells": [
  {
   "cell_type": "markdown",
   "id": "746247b7",
   "metadata": {},
   "source": [
    "## Definition of graph isomorphism.\n"
   ]
  },
  {
   "cell_type": "markdown",
   "id": "d6eeca58",
   "metadata": {},
   "source": [
    "<h1>Graph Isomorphism Explained</h1>\n",
    "\n",
    "<p> Gragh Isomorphism is when the same graph occurs in more than one form. This must follow some conditions such as the number of vertices (<i>V</i>) and edges (<i>E</i>) must be the same. If we look at the example below, we can se isomorphism at work. While the structure of the graph is different, it is infact the same graph following the conditions of isomoprhism. </p>\n",
    "\n",
    "<img src=\"graph_isomorph_example.png\" width=\"50%\" height=\"50%\">\n",
    "\n",
    "<br>\n",
    "<p></p>"
   ]
  },
  {
   "cell_type": "markdown",
   "id": "5b9040c5",
   "metadata": {},
   "source": [
    "## Specification of the Graph Isomorphism Problem"
   ]
  },
  {
   "cell_type": "code",
   "execution_count": null,
   "id": "066ef2a5",
   "metadata": {},
   "outputs": [],
   "source": []
  },
  {
   "cell_type": "markdown",
   "id": "24661b57",
   "metadata": {},
   "source": [
    "## Python function to determine whether two graphs are isomorphic"
   ]
  },
  {
   "cell_type": "code",
   "execution_count": null,
   "id": "125f8f0c",
   "metadata": {},
   "outputs": [],
   "source": []
  },
  {
   "cell_type": "markdown",
   "id": "83500de1",
   "metadata": {},
   "source": [
    "## Explanation of the main reason computer scientists are interested in the complexity of the Graph Isomorphism Problem "
   ]
  },
  {
   "cell_type": "code",
   "execution_count": null,
   "id": "1e7156a2",
   "metadata": {},
   "outputs": [],
   "source": []
  }
 ],
 "metadata": {
  "kernelspec": {
   "display_name": "Python 3 (ipykernel)",
   "language": "python",
   "name": "python3"
  },
  "language_info": {
   "codemirror_mode": {
    "name": "ipython",
    "version": 3
   },
   "file_extension": ".py",
   "mimetype": "text/x-python",
   "name": "python",
   "nbconvert_exporter": "python",
   "pygments_lexer": "ipython3",
   "version": "3.9.7"
  }
 },
 "nbformat": 4,
 "nbformat_minor": 5
}
