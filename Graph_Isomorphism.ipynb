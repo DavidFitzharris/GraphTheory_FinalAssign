{
 "cells": [
  {
   "cell_type": "markdown",
   "id": "746247b7",
   "metadata": {},
   "source": [
    "# Graph Isomorphism.\n"
   ]
  },
  {
   "cell_type": "markdown",
   "id": "d6eeca58",
   "metadata": {},
   "source": [
    "<h3>Graph Isomorphism Explained</h3>\n",
    "\n",
    "<p> Gragh Isomorphism is when the same graph occurs in more than one form. This must follow some conditions such as the number of vertices (<i>V</i>) and edges (<i>E</i>) must be the same. If we look at the example below, we can se isomorphism at work. While the structure of the graph is different, it is infact the same graph following the conditions of isomorphism. </p>\n",
    "\n",
    "<img src=\"graph_isomorph_example.png\" width=\"50%\" height=\"50%\">\n"
   ]
  },
  {
   "cell_type": "markdown",
   "id": "2b1a1797",
   "metadata": {},
   "source": []
  },
  {
   "cell_type": "markdown",
   "id": "5b9040c5",
   "metadata": {},
   "source": [
    "## Specification of the Graph Isomorphism Problem"
   ]
  },
  {
   "cell_type": "markdown",
   "id": "c84e37ca",
   "metadata": {},
   "source": [
    "<h3>Basics of Graphs with Data</h3>\n",
    "<p>Before going further into Graph isomorphism, lets look at some of the terms used when using data with graphs and into graph isomophism</p>\n",
    "\n",
    "<p>\n",
    "    <u>Set</u> {a,b,c}<br>\n",
    "    <ul>\n",
    "        <li>Sets are shown in curly braces</li>\n",
    "        <li>No dublicate elements</li>\n",
    "        <li>Unordered</li>\n",
    "    </ul>\n",
    "</p>\n",
    "<p>\n",
    "    <u>Tuple</u> (a,b,b,c,c,d)<br>\n",
    "    <ul>\n",
    "        <li>Shown in round bracket</li>\n",
    "        <li>Possible to have dublicate elements</li>\n",
    "        <li>Ordered</li>\n",
    "    </ul>\n",
    "</p>\n",
    "<p>\n",
    "    <u>Map</u>{(a,d),(b,e),(c,e)}<br>\n",
    "    <ul>\n",
    "        <li>Opened as a set</li>\n",
    "        <li>Conatains tuple pairs</li>\n",
    "        <li>first, or left, element in the pair does not repeat</li>\n",
    "    </ul>\n",
    "</p>\n",
    "<p>  \n",
    "    <u>Bijection</u><br>\n",
    "    <ul>\n",
    "        <li>Function between the elements of two sets in a one-to-one relationship</li>\n",
    "        <li><i>f</i> : x ←→ y </li>\n",
    "        <li>Map is therefore reversible</li>\n",
    "    </ul>\n",
    "    <img src=\"Bijection_example.png\" title=\"An example of bijection\" width=\"25%\" height=\"25%\">\n",
    "    \n",
    "</p>\n",
    "<p> \n",
    "    <u>Graph</u><br>\n",
    "    <ul>\n",
    "        <li>Graph is made up of the Vertices and Edges. G = (V,E)</li>\n",
    "        <li><i>V</i> is the set of nodes eg. {1,2,3,4,5}</li>\n",
    "        <li><i>E</i> is a subset of V using 2 nodes {2,3} </li>\n",
    "    </ul>\n",
    "</p>\n",
    "<p> \n",
    "    <u>Isomorphism</u><br>\n",
    "    <ul>\n",
    "        <li>Using the information above, we can show isomorphism as G1 = (V1, E1) ∼= G2 = (V2, E2)\n",
    " </li>\n",
    "        <li>Two graphs with the same vertices and edges, but formed differently when displayed</li>\n",
    "    </ul>\n",
    "</p>\n",
    "\n",
    "<h3>The Problem</h3>\n",
    "\n",
    "<p>Looking at simple graphs, with a basic understanding of isomorphism you can relatively quickly figure out if these graphs are isomorphic or not. You can also draw bijections between the two graphs to establish if the graphs are the same, as mentioned above, looking for a one-to-one relationship between points. If the graphs were side by side, one point on the left would have to go to one point on the right. There does not have to be order but every point must go to only one other point with no points left, and follow the conditions that the number of components and edges are the same.<br><br> When graphs get a busier and more complex this no longer becomes such a simple task</p>\n",
    "\n",
    "<p><i>Ref: https://en.wikipedia.org/wiki/Bijection<br>\n",
    "    GMIT Y3 Graph Theory with Dr Ian McLoughlin\n",
    "    </i></p>\n"
   ]
  },
  {
   "cell_type": "markdown",
   "id": "24661b57",
   "metadata": {},
   "source": [
    "## Python function to determine whether two graphs are isomorphic"
   ]
  },
  {
   "cell_type": "code",
   "execution_count": null,
   "id": "125f8f0c",
   "metadata": {},
   "outputs": [],
   "source": []
  },
  {
   "cell_type": "markdown",
   "id": "83500de1",
   "metadata": {},
   "source": [
    "## Explanation of the main reason computer scientists are interested in the complexity of the Graph Isomorphism Problem "
   ]
  },
  {
   "cell_type": "code",
   "execution_count": null,
   "id": "1e7156a2",
   "metadata": {},
   "outputs": [],
   "source": []
  }
 ],
 "metadata": {
  "kernelspec": {
   "display_name": "Python 3 (ipykernel)",
   "language": "python",
   "name": "python3"
  },
  "language_info": {
   "codemirror_mode": {
    "name": "ipython",
    "version": 3
   },
   "file_extension": ".py",
   "mimetype": "text/x-python",
   "name": "python",
   "nbconvert_exporter": "python",
   "pygments_lexer": "ipython3",
   "version": "3.9.7"
  }
 },
 "nbformat": 4,
 "nbformat_minor": 5
}
