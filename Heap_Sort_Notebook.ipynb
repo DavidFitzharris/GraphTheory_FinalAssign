{
 "cells": [
  {
   "cell_type": "markdown",
   "id": "ce025748",
   "metadata": {},
   "source": [
    "# HEAP SORT"
   ]
  },
  {
   "cell_type": "markdown",
   "id": "239f72ff",
   "metadata": {},
   "source": [
    "<h2>What is Heap Sort?</h2>\n",
    "    <p>Heap sort is a comparison-based sorting technique based on Binary Heap data structure, where the min elemant is found, placed the beginning, and this process is repeated, or in reverse order(Min-heap or Max-Heap).</p>\n",
    "    \n",
    "<h2>Binary Tree and Heap</h2>\n",
    "<p> In a <b>binary tree</b>, each node has at most two children, refered to as the left child and right child. The top element is known as the root note. These nodes are stored from left first  </p><br>\n",
    "\n",
    "<p><b>Binary Heap</b> is a complete binary tree where the nodes are ordered so the the parent node is greater value to the child nodes. The former is called max heap and the latter is called min heap. This can also be represented as an array.</p>\n",
    "\n",
    "<img src=\"array_nd_tree.png\" alt=\"Binary array and tree img\" width=\"50%\" height=\"50%\" title=\"Binary Heap and Array\">\n",
    "\n",
    "<h2><i>Heapify</i> Reshaping the Tree</h2>\n",
    "<p>Heapify is the term given to the process of creating a heap data structure from a binary tree. </p>\n",
    "\n",
    "<h2>The Algorithm</h2>\n",
    "<p>For Max-Heap<br><br>\n",
    "<i>heapify(array)<br>\n",
    "    Root = array[0]<br>\n",
    "    Largest = largest( array[0] , array [2*0 + 1]. array[2*0+2])<br>\n",
    "    if(Root != Largest)<br>\n",
    "          Swap(Root, Largest)<br>\n",
    "</i></p>\n",
    "\n",
    "<br><br><p><i>Ref: geeksforgeeks.org/heap-sort\n",
    "    <br> Wikipedia</i></p>"
   ]
  },
  {
   "cell_type": "markdown",
   "id": "c5e9531e",
   "metadata": {},
   "source": [
    "<h1>Heap Sort In Python</h1>\n",
    "<p>code from https://www.tutorialspoint.com/Heap-Sort</p>"
   ]
  },
  {
   "cell_type": "code",
   "execution_count": 4,
   "id": "ab624b61",
   "metadata": {},
   "outputs": [],
   "source": [
    "# heapify\n",
    "def heapify(arr, n, i):\n",
    "   largest = i # largest value\n",
    "   l = 2 * i + 1 # left\n",
    "   r = 2 * i + 2 # right\n",
    "   # if left child exists\n",
    "   if l < n and arr[i] < arr[l]:\n",
    "      largest = l\n",
    "   # if right child exits\n",
    "   if r < n and arr[largest] < arr[r]:\n",
    "      largest = r\n",
    "   # root\n",
    "   if largest != i:\n",
    "      arr[i],arr[largest] = arr[largest],arr[i] # swap\n",
    "      # root.\n",
    "      heapify(arr, n, largest)\n"
   ]
  },
  {
   "cell_type": "code",
   "execution_count": 5,
   "id": "ba04167e",
   "metadata": {},
   "outputs": [],
   "source": [
    "# sort\n",
    "def heapSort(arr):\n",
    "   n = len(arr)\n",
    "   # maxheap\n",
    "   for i in range(n, -1, -1):\n",
    "      heapify(arr, n, i)\n",
    "   # element extraction\n",
    "   for i in range(n-1, 0, -1):\n",
    "      arr[i], arr[0] = arr[0], arr[i] # swap\n",
    "      heapify(arr, i, 0)"
   ]
  },
  {
   "cell_type": "code",
   "execution_count": 6,
   "id": "0de00f52",
   "metadata": {},
   "outputs": [
    {
     "name": "stdout",
     "output_type": "stream",
     "text": [
      "Sorted array is\n",
      "2 3 4 5 5 6 7 8 "
     ]
    }
   ],
   "source": [
    "# main\n",
    "arr = [2,5,3,8,6,5,4,7]\n",
    "heapSort(arr)\n",
    "n = len(arr)\n",
    "print (\"Sorted array is\")\n",
    "for i in range(n):\n",
    "   print (arr[i],end=\" \")\n"
   ]
  },
  {
   "cell_type": "code",
   "execution_count": null,
   "id": "5c8b657b",
   "metadata": {},
   "outputs": [],
   "source": []
  }
 ],
 "metadata": {
  "kernelspec": {
   "display_name": "Python 3 (ipykernel)",
   "language": "python",
   "name": "python3"
  },
  "language_info": {
   "codemirror_mode": {
    "name": "ipython",
    "version": 3
   },
   "file_extension": ".py",
   "mimetype": "text/x-python",
   "name": "python",
   "nbconvert_exporter": "python",
   "pygments_lexer": "ipython3",
   "version": "3.9.7"
  }
 },
 "nbformat": 4,
 "nbformat_minor": 5
}
