{
 "cells": [
  {
   "cell_type": "markdown",
   "id": "ce025748",
   "metadata": {},
   "source": [
    "# HEAP SORT"
   ]
  },
  {
   "cell_type": "markdown",
   "id": "239f72ff",
   "metadata": {},
   "source": [
    "<h2>What is Heap Sort?</h2>\n",
    "    <p>Heap sort is a comparison-based sorting technique based on Binary Heap data structure, where the min elemant is found, placed the beginning, and this process is repeated, or in reverse order(Min-heap or Max-Heap).</p>\n",
    "    \n",
    "<h2>Binary Tree and Heap</h2>\n",
    "<p> In a <b>binary tree</b>, each node has at most two children, refered to as the left child and right child. The top element is known as the root note. These nodes are stored from left first  </p><br>\n",
    "\n",
    "<p><b>Binary Heap</b> is a complete binary tree where the nodes are ordered so the the parent node is greater value to the child nodes. The former is called max heap and the latter is called min heap. This can also be represented as an array.</p>\n",
    "\n",
    "<img src=\"array_nd_tree.png\" alt=\"Binary array and tree img\" width=\"50%\" height=\"50%\" title=\"Binary Heap and Array\">\n",
    "\n",
    "<h2><i>Heapify</i> Reshaping the Tree</h2>\n",
    "<p>Heapify is the term given to the process of creating a heap data structure from a binary tree. </p>\n",
    "\n",
    "<br><br><p><i>Ref: geeksforgeeks.org/heap-sort\n",
    "    <br> Wikipedia</i></p>"
   ]
  },
  {
   "cell_type": "code",
   "execution_count": null,
   "id": "07e40c9f",
   "metadata": {},
   "outputs": [],
   "source": []
  },
  {
   "cell_type": "code",
   "execution_count": null,
   "id": "ab624b61",
   "metadata": {},
   "outputs": [],
   "source": []
  },
  {
   "cell_type": "code",
   "execution_count": null,
   "id": "ba04167e",
   "metadata": {},
   "outputs": [],
   "source": []
  }
 ],
 "metadata": {
  "kernelspec": {
   "display_name": "Python 3 (ipykernel)",
   "language": "python",
   "name": "python3"
  },
  "language_info": {
   "codemirror_mode": {
    "name": "ipython",
    "version": 3
   },
   "file_extension": ".py",
   "mimetype": "text/x-python",
   "name": "python",
   "nbconvert_exporter": "python",
   "pygments_lexer": "ipython3",
   "version": "3.9.7"
  }
 },
 "nbformat": 4,
 "nbformat_minor": 5
}
