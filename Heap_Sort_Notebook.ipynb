{
 "cells": [
  {
   "cell_type": "markdown",
   "id": "ce025748",
   "metadata": {},
   "source": [
    "# HEAP SORT"
   ]
  },
  {
   "cell_type": "markdown",
   "id": "239f72ff",
   "metadata": {},
   "source": [
    "<h2>What is Heap Sort?</h2>\n",
    "    <p>Heap sort is a comparison-based sorting technique based on Binary Heap data structure, where the min elemant is found, placed the beginning, and this process is repeated, or in reverse order(Min-heap or Max-Heap). It is one of the more popular and efficient sorting algorithms in programming and is favoured over other well known sorting algorithms such as bubble sort and merge sort.</p>\n",
    "    \n",
    "<h2>Binary Tree and Heap</h2>\n",
    "<p> In a <b> rooted binary tree</b>, each node has at most two children, refered to as the left child and right child. The top element is known as the root note. These nodes are stored from left first  </p><br>\n",
    "\n",
    "<p><b>Binary Heap</b> is a complete binary tree where the nodes are ordered so the the parent node is greater value to the child nodes. The former is called max heap and the latter is called min heap. This can also be represented as an array.</p>\n",
    "\n",
    "<img src=\"Img/array_nd_tree.png\" alt=\"Binary array and tree img\" width=\"50%\" height=\"50%\" title=\"Binary Heap and Array\">\n",
    "\n",
    "<h2><i>Heapify</i> Reshaping the Tree</h2>\n",
    "<p>Heapify is the term given to the process of creating a heap data structure from a binary tree. As mentioned before we have to variants, min-heapify and max-heapify.\n",
    "    <br> With min-heapify, the root note is always the smallest in the the heap, and the value of the child node is always greater than the parent\n",
    "    <br> Max-heapify will do the opposite, with the root note being the greatest, and the children nodes always being greater</p>\n",
    "   \n",
    "<img src=\"Img/Min_Max_Heap.png\" alt=\"Min and Max Heap img\" width=\"70%\" height=\"70%\" title=\"Example of min and max heap\">\n",
    "\n",
    "<h2>The Algorithm</h2>\n",
    "<p>For Max-Heap<br><br>\n",
    "<i>heapify(array)<br>\n",
    "    Root = array[0]<br>\n",
    "    Largest = largest( array[0] , array [2*0 + 1]. array[2*0+2])<br>\n",
    "    if(Root != Largest)<br>\n",
    "          Swap(Root, Largest)<br>\n",
    "</i></p>\n",
    "\n",
    "<br><br><p><i>Ref: geeksforgeeks.org/heap-sort <br> https://algorithmtutor.com/Data-Structures/Tree/Binary-Trees/\n",
    "    <br> Wikipedia</i></p>"
   ]
  },
  {
   "cell_type": "markdown",
   "id": "c5e9531e",
   "metadata": {},
   "source": [
    "<h1>Heap Sort In Python</h1>\n",
    "<p>code from https://www.tutorialspoint.com/Heap-Sort</p>"
   ]
  },
  {
   "cell_type": "code",
   "execution_count": 30,
   "id": "ab624b61",
   "metadata": {},
   "outputs": [],
   "source": [
    "# Using time to compare other algorithms \n",
    "import time\n",
    "\n",
    "# Using heapify with Min-Heap\n",
    "def heapify(arr, n, i):\n",
    "   largest = i # largest value\n",
    "   l = 2 * i + 1 # left node\n",
    "   r = 2 * i + 2 # right node\n",
    "\n",
    "   # if left child exists\n",
    "   if l < n and arr[i] < arr[l]:\n",
    "      largest = l\n",
    "        \n",
    "   # if right child exits\n",
    "   if r < n and arr[largest] < arr[r]:\n",
    "      largest = r\n",
    "    \n",
    "   # root\n",
    "   if largest != i:\n",
    "      arr[i],arr[largest] = arr[largest],arr[i] # swap\n",
    "      # Heapify root.\n",
    "      heapify(arr, n, largest)\n"
   ]
  },
  {
   "cell_type": "code",
   "execution_count": 27,
   "id": "ba04167e",
   "metadata": {},
   "outputs": [],
   "source": [
    "# sort\n",
    "def heapSort(arr):\n",
    "   n = len(arr)\n",
    "   # max-heap\n",
    "   for i in range(n, -1, -1):\n",
    "      heapify(arr, n, i)\n",
    "   # element extraction\n",
    "   for i in range(n-1, 0, -1):\n",
    "      arr[i], arr[0] = arr[0], arr[i] # swap\n",
    "      heapify(arr, i, 0)"
   ]
  },
  {
   "cell_type": "code",
   "execution_count": 41,
   "id": "0de00f52",
   "metadata": {},
   "outputs": [
    {
     "name": "stdout",
     "output_type": "stream",
     "text": [
      "Original array: \n",
      "2 5 3 8 6 5 4 7 \n",
      "Sorted array is: \n",
      "2 3 4 5 5 6 7 8 \n",
      "Runtime: 0.0010039806365966797\n"
     ]
    }
   ],
   "source": [
    "# Creating an Array\n",
    "arr = [2,5,3,8,6,5,4,7]\n",
    "# Array values printed to screen\n",
    "print(\"Original array: \")\n",
    "for i in range(n):\n",
    "   print (arr[i],end=\" \")\n",
    "start = time.time()\n",
    "#Implementing the heapSort function \n",
    "heapSort(arr)\n",
    "print ()\n",
    "print (\"Sorted array is: \")\n",
    "for i in range(n):\n",
    "   print (arr[i],end=\" \")\n",
    "\n",
    "end = time.time() \n",
    "print ()\n",
    "print (f\"Runtime: {end - start}\")\n"
   ]
  },
  {
   "cell_type": "markdown",
   "id": "61031946",
   "metadata": {},
   "source": [
    "<h2>Heap Sort vs Bubble Sort</h2>\n",
    "\n",
    "<h3>Bubble Sort</h3>\n",
    "    \n",
    "<p>Before comparing the two sorting algorthms lets first take a look at what exactly bubble sort is. Bubble sort compares two values next to one another in an array, arr[<i>n</i>, <i>n</i>+1], and either swaps or ignores these values, and moves along to the next values, <i>n</i> + 1. This cycle continues along the array and then repeats from the beginning. This cycle ends once the function can run without having to make any more swaps, understanding that the array is now in sequencial order. </p>\n",
    "\n",
    "<img src=\"Img/bubbleSortExample.png\" alt=\"Bubble sort image img\" width=\"60%\" height=\"60%\" title=\"Example of bubble sort\">\n",
    "\n",
    "<h3>Implementing Bubble Sort in Python</h3>\n",
    "\n",
    "<i>Ref: https://www.geeksforgeeks.org/bubble-sort/</i>"
   ]
  },
  {
   "cell_type": "code",
   "execution_count": 40,
   "id": "d68dee04",
   "metadata": {},
   "outputs": [
    {
     "name": "stdout",
     "output_type": "stream",
     "text": [
      "Sorted array is:\n",
      "2 3 4 5 5 6 7 8 \n",
      "Runtime: 0.002002239227294922\n"
     ]
    }
   ],
   "source": [
    "\n",
    "# Python program for implementation of Bubble Sort\n",
    "# Using time to compare other algorithms \n",
    "import time  \n",
    "\n",
    "start = time.time()  \n",
    "def bubbleSort(arr):\n",
    "    n = len(arr)\n",
    "  \n",
    "    # Traverse through all array elements\n",
    "    for i in range(n):\n",
    "  \n",
    "        # Last i elements are already in place\n",
    "        for j in range(0, n-i-1):\n",
    "  \n",
    "            # traverse the array from 0 to n-i-1\n",
    "            # Swap if the element found is greater\n",
    "            # than the next element\n",
    "            if arr[j] > arr[j+1]:\n",
    "                arr[j], arr[j+1] = arr[j+1], arr[j]\n",
    "  \n",
    "  \n",
    "# Same array from heap sort \n",
    "arr = [2,5,3,8,6,5,4,7]\n",
    "  \n",
    "bubbleSort(arr)\n",
    "  \n",
    "print(\"Sorted array is:\")\n",
    "for i in range(len(arr)):\n",
    "    print(\"%d\" % arr[i], end=\" \")  \n",
    "    \n",
    "end = time.time() \n",
    "print ()\n",
    "print (f\"Runtime: {end - start}\")"
   ]
  },
  {
   "cell_type": "markdown",
   "id": "572acd0f",
   "metadata": {},
   "source": [
    "<h3>Comparing the two algorithms</h3>\n",
    "\n",
    "<p>As we can see in bubble sort, there is more stages to go through to sort the array. While heap sort is like stacking an unsorted pile of books, bubble sort goes through the pile again and again, swapping places untill correct.\n",
    "<br> Using time in python we can check how long it takes to run each algorithm, or the runtime. Calculating the run time for the algorithms we can see how heap sort is sorting the array almost twice as fast The runtime for the bubble sort method takes 0.002 seconds while heap sort takes 0.001 seconds. This may seem very little with a small array, but when sorting through large quantities of data, and running programs efficiently, you can begin to understand the importance of using the more efficient sorting algorithm.</p>"
   ]
  }
 ],
 "metadata": {
  "kernelspec": {
   "display_name": "Python 3 (ipykernel)",
   "language": "python",
   "name": "python3"
  },
  "language_info": {
   "codemirror_mode": {
    "name": "ipython",
    "version": 3
   },
   "file_extension": ".py",
   "mimetype": "text/x-python",
   "name": "python",
   "nbconvert_exporter": "python",
   "pygments_lexer": "ipython3",
   "version": "3.9.7"
  }
 },
 "nbformat": 4,
 "nbformat_minor": 5
}
